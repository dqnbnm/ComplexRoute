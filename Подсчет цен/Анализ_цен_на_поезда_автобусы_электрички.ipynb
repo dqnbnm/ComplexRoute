{
  "nbformat": 4,
  "nbformat_minor": 0,
  "metadata": {
    "colab": {
      "provenance": []
    },
    "kernelspec": {
      "name": "python3",
      "display_name": "Python 3"
    },
    "language_info": {
      "name": "python"
    }
  },
  "cells": [
    {
      "cell_type": "code",
      "execution_count": null,
      "metadata": {
        "id": "aN6Hevz8voDR"
      },
      "outputs": [],
      "source": [
        "import requests\n",
        "import json"
      ]
    },
    {
      "cell_type": "markdown",
      "source": [
        "# Цена на поезд\n",
        "Для выгрузки цены на поезд используется API от Tutu.ru\n",
        "\n",
        "Ниже представлена функция, которая печатает все цены на поезда."
      ],
      "metadata": {
        "id": "Mo04dWkWxtsV"
      }
    },
    {
      "cell_type": "code",
      "source": [
        "def get_train_price(departure_station, arrival_station, train_number=\"0\", type_of_seat=\"0\"): # departure_time\n",
        "  url = f'https://suggest.travelpayouts.com/search?service=tutu_trains&term={station1}&term2={station2}&callback=n'\n",
        "  res = requests.get(url)\n",
        "  res_json = json.loads(res.text.replace(\"n(\", \"\").replace(\");\", \"\"))\n",
        "\n",
        "  return res_json['trips']\n"
      ],
      "metadata": {
        "id": "pokKYTfGMyZM"
      },
      "execution_count": null,
      "outputs": []
    },
    {
      "cell_type": "code",
      "source": [
        "def print_train_prices(prices):\n",
        "  types_of_train = {'plazcard': 'плацкарт', 'coupe': 'купе', 'sedentary': 'сидячий', 'lux': 'люкс', 'soft': 'мягкий'}\n",
        "  for way in prices:\n",
        "    for cat in way['categories']:\n",
        "      print(f'Тип: {types_of_train[cat[\"type\"]]}\\nЦена: {cat[\"price\"]}')\n",
        "    print()"
      ],
      "metadata": {
        "id": "eYQemrfhN_HY"
      },
      "execution_count": null,
      "outputs": []
    },
    {
      "cell_type": "code",
      "source": [
        "station1 = '2000000'\n",
        "station2 = '2064130'\n",
        "\n",
        "print_train_prices(get_train_price(station1, station2))"
      ],
      "metadata": {
        "colab": {
          "base_uri": "https://localhost:8080/"
        },
        "id": "LDYUha8JJut5",
        "outputId": "75a51b3f-0934-4e51-8c23-663e02cb1a61"
      },
      "execution_count": null,
      "outputs": [
        {
          "output_type": "stream",
          "name": "stdout",
          "text": [
            "Тип: плацкарт\n",
            "Цена: 3768\n",
            "Тип: купе\n",
            "Цена: 2548\n",
            "Тип: люкс\n",
            "Цена: 12449\n",
            "\n",
            "Тип: купе\n",
            "Цена: 3750\n",
            "Тип: люкс\n",
            "Цена: 17174\n",
            "Тип: мягкий\n",
            "Цена: 56577\n",
            "\n",
            "Тип: плацкарт\n",
            "Цена: 3195\n",
            "Тип: купе\n",
            "Цена: 3324\n",
            "Тип: люкс\n",
            "Цена: 10718\n",
            "\n",
            "Тип: купе\n",
            "Цена: 3248\n",
            "Тип: люкс\n",
            "Цена: 16736\n",
            "\n",
            "Тип: плацкарт\n",
            "Цена: 4266\n",
            "Тип: купе\n",
            "Цена: 4168\n",
            "Тип: люкс\n",
            "Цена: 13260\n",
            "\n",
            "Тип: плацкарт\n",
            "Цена: 3664\n",
            "Тип: купе\n",
            "Цена: 5147\n",
            "Тип: люкс\n",
            "Цена: 12336\n",
            "\n",
            "Тип: плацкарт\n",
            "Цена: 3195\n",
            "Тип: купе\n",
            "Цена: 2939\n",
            "\n",
            "Тип: купе\n",
            "Цена: 3483\n",
            "Тип: люкс\n",
            "Цена: 12257\n",
            "\n",
            "Тип: купе\n",
            "Цена: 2922\n",
            "Тип: люкс\n",
            "Цена: 7447\n",
            "\n",
            "Тип: плацкарт\n",
            "Цена: 3969\n",
            "Тип: купе\n",
            "Цена: 3696\n",
            "Тип: люкс\n",
            "Цена: 19125\n",
            "\n",
            "Тип: плацкарт\n",
            "Цена: 3590\n",
            "Тип: купе\n",
            "Цена: 3464\n",
            "Тип: люкс\n",
            "Цена: 11045\n",
            "\n"
          ]
        }
      ]
    },
    {
      "cell_type": "markdown",
      "source": [
        "# Цена на автобусы\n",
        "\n",
        "Формула, которая примерно считает цену на междугородние автобусы:\n",
        "\n",
        "**Цена = (100 + 1.5 * K * C * S) * (1 − D) + 120 * p**\n",
        ", где\n",
        "\n",
        "100 - базовая ставка\n",
        "\n",
        "1.5 - Стоимость за км\n",
        "\n",
        "K - количество километров\n",
        "\n",
        "C - коэффициент класса обслуживания\n",
        "\n",
        "S - коэффициент сезонности (бывают периоды, когда спрос на автобусы выше, соотвественно, стоимость билета повышается)\n",
        "\n",
        "D - коэффициент скидки (от 0 включительно до 1 невключительно, 0 - по умолчанию)\n",
        "\n",
        "120 - стоимость 1 места багажа\n",
        "\n",
        "p - где 0, если пассажир едет без багажа, 1 - если пассажир занимает 1 место в багаже, 2 - если 2 места\n"
      ],
      "metadata": {
        "id": "j2_5zXE43_NH"
      }
    }
  ]
}